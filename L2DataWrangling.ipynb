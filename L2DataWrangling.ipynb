{
 "cells": [
  {
   "cell_type": "code",
   "execution_count": 2,
   "metadata": {
    "collapsed": false
   },
   "outputs": [],
   "source": [
    "#L2,\n",
    "#Q, CSV Exercise\n",
    "import pandas\n",
    "\n",
    "def add_full_name(path_to_csv, path_to_new_csv):\n",
    "    #Assume you will be reading in a csv file with the same columns that the\n",
    "    #Lahman baseball data set has -- most importantly, there are columns\n",
    "    #called 'nameFirst' and 'nameLast'.\n",
    "    #1) Write a function that reads a csv\n",
    "    #located at \"path_to_csv\" into a pandas dataframe and adds a new column\n",
    "    #called 'nameFull' with a player's full name.\n",
    "    #\n",
    "    #For example:\n",
    "    #   for Hank Aaron, nameFull would be 'Hank Aaron', \n",
    "\t#\n",
    "\t#2) Write the data in the pandas dataFrame to a new csv file located at\n",
    "\t#path_to_new_csv\n",
    "\n",
    "    #WRITE YOUR CODE HERE\n",
    "    df=pandas.read_csv(path_to_csv)\n",
    "    df['nameFull']=df['nameFirst']+' '+df['nameLast']\n",
    "    df.to_csv(path_to_new_csv)\n",
    "\n",
    "if __name__ == \"__main__\":\n",
    "    # For local use only\n",
    "    # If you are running this on your own machine add the path to the\n",
    "    # Lahman baseball csv and a path for the new csv.\n",
    "    # The dataset can be downloaded from this website: http://www.seanlahman.com/baseball-archive/statistics\n",
    "    # We are using the file Master.csv\n",
    "    path_to_csv = \"\"\n",
    "    path_to_new_csv = \"\"\n",
    "    add_full_name(path_to_csv, path_to_new_csv)\n"
   ]
  },
  {
   "cell_type": "code",
   "execution_count": 1,
   "metadata": {
    "collapsed": false
   },
   "outputs": [
    {
     "ename": "ImportError",
     "evalue": "No module named pandasql",
     "output_type": "error",
     "traceback": [
      "\u001b[0;31m---------------------------------------------------------------------------\u001b[0m",
      "\u001b[0;31mImportError\u001b[0m                               Traceback (most recent call last)",
      "\u001b[0;32m<ipython-input-1-36db23b9f031>\u001b[0m in \u001b[0;36m<module>\u001b[0;34m()\u001b[0m\n\u001b[1;32m      1\u001b[0m \u001b[0;31m#Q Simple querry\u001b[0m\u001b[0;34m\u001b[0m\u001b[0;34m\u001b[0m\u001b[0m\n\u001b[1;32m      2\u001b[0m \u001b[0;32mimport\u001b[0m \u001b[0mpandas\u001b[0m\u001b[0;34m\u001b[0m\u001b[0m\n\u001b[0;32m----> 3\u001b[0;31m \u001b[0;32mimport\u001b[0m \u001b[0mpandasql\u001b[0m\u001b[0;34m\u001b[0m\u001b[0m\n\u001b[0m\u001b[1;32m      4\u001b[0m \u001b[0;34m\u001b[0m\u001b[0m\n\u001b[1;32m      5\u001b[0m \u001b[0;32mdef\u001b[0m \u001b[0mselect_first_50\u001b[0m\u001b[0;34m(\u001b[0m\u001b[0mfilename\u001b[0m\u001b[0;34m)\u001b[0m\u001b[0;34m:\u001b[0m\u001b[0;34m\u001b[0m\u001b[0m\n",
      "\u001b[0;31mImportError\u001b[0m: No module named pandasql"
     ]
    }
   ],
   "source": [
    "#Q Write your own simple querry\n",
    "import pandas\n",
    "import pandasql\n",
    "\n",
    "def select_first_50(filename):\n",
    "    # Read in our aadhaar_data csv to a pandas dataframe.  Afterwards, we rename the columns\n",
    "    # by replacing spaces with underscores and setting all characters to lowercase, so the\n",
    "    # column names more closely resemble columns names one might find in a table.\n",
    "    aadhaar_data = pandas.read_csv(filename)\n",
    "    aadhaar_data.rename(columns = lambda x: x.replace(' ', '_').lower(), inplace=True)\n",
    "\n",
    "    # Select out the first 50 values for \"registrar\" and \"enrolment_agency\"\n",
    "    # in the aadhaar_data table using SQL syntax. \n",
    "    #\n",
    "    # Note that \"enrolment_agency\" is spelled with one l. Also, the order\n",
    "    # of the select does matter. Make sure you select registrar then enrolment agency\n",
    "    # in your query.\n",
    "    #\n",
    "    # You can download a copy of the aadhaar data that we are passing \n",
    "    # into this exercise below:\n",
    "    # https://s3.amazonaws.com/content.udacity-data.com/courses/ud359/aadhaar_data.csv\n",
    "    q = \"\"\"\n",
    "    SELECT registrar, enrolment_agency\n",
    "    FROM aadhaar_data \n",
    "    LIMIT 50;\n",
    "    \"\"\"\n",
    "\n",
    "    #Execute your SQL command against the pandas frame\n",
    "    aadhaar_solution = pandasql.sqldf(q.lower(), locals())\n",
    "    return aadhaar_solution    "
   ]
  },
  {
   "cell_type": "code",
   "execution_count": 2,
   "metadata": {
    "collapsed": false
   },
   "outputs": [
    {
     "ename": "ImportError",
     "evalue": "No module named pandasql",
     "output_type": "error",
     "traceback": [
      "\u001b[0;31m---------------------------------------------------------------------------\u001b[0m",
      "\u001b[0;31mImportError\u001b[0m                               Traceback (most recent call last)",
      "\u001b[0;32m<ipython-input-2-8d77140f1d44>\u001b[0m in \u001b[0;36m<module>\u001b[0;34m()\u001b[0m\n\u001b[1;32m      1\u001b[0m \u001b[0;31m#Q, Write your own complex query\u001b[0m\u001b[0;34m\u001b[0m\u001b[0;34m\u001b[0m\u001b[0m\n\u001b[1;32m      2\u001b[0m \u001b[0;32mimport\u001b[0m \u001b[0mpandas\u001b[0m\u001b[0;34m\u001b[0m\u001b[0m\n\u001b[0;32m----> 3\u001b[0;31m \u001b[0;32mimport\u001b[0m \u001b[0mpandasql\u001b[0m\u001b[0;34m\u001b[0m\u001b[0m\n\u001b[0m\u001b[1;32m      4\u001b[0m \u001b[0;34m\u001b[0m\u001b[0m\n\u001b[1;32m      5\u001b[0m \u001b[0;32mdef\u001b[0m \u001b[0maggregate_query\u001b[0m\u001b[0;34m(\u001b[0m\u001b[0mfilename\u001b[0m\u001b[0;34m)\u001b[0m\u001b[0;34m:\u001b[0m\u001b[0;34m\u001b[0m\u001b[0m\n",
      "\u001b[0;31mImportError\u001b[0m: No module named pandasql"
     ]
    }
   ],
   "source": [
    "#Q, Write your own complex query\n",
    "import pandas\n",
    "import pandasql\n",
    "\n",
    "def aggregate_query(filename):\n",
    "    # Read in our aadhaar_data csv to a pandas dataframe.  Afterwards, we rename the columns\n",
    "    # by replacing spaces with underscores and setting all characters to lowercase, so the\n",
    "    # column names more closely resemble columns names one might find in a table.\n",
    "    \n",
    "    aadhaar_data = pandas.read_csv(filename)\n",
    "    aadhaar_data.rename(columns = lambda x: x.replace(' ', '_').lower(), inplace=True)\n",
    "\n",
    "    # Write a query that will select from the aadhaar_data table how many men and how \n",
    "    # many women over the age of 50 have had aadhaar generated for them in each district.\n",
    "    # aadhaar_generated is a column in the Aadhaar Data that denotes the number who have had\n",
    "    # aadhaar generated in each row of the table.\n",
    "    #\n",
    "    # Note that in this quiz, the SQL query keywords are case sensitive. \n",
    "    # For example, if you want to do a sum make sure you type 'sum' rather than 'SUM'.\n",
    "    #\n",
    "\n",
    "    # The possible columns to select from aadhaar data are:\n",
    "    #     1) registrar\n",
    "    #     2) enrolment_agency\n",
    "    #     3) state\n",
    "    #     4) district\n",
    "    #     5) sub_district\n",
    "    #     6) pin_code\n",
    "    #     7) gender\n",
    "    #     8) age\n",
    "    #     9) aadhaar_generated\n",
    "    #     10) enrolment_rejected\n",
    "    #     11) residents_providing_email,\n",
    "    #     12) residents_providing_mobile_number\n",
    "    #\n",
    "    # You can download a copy of the aadhaar data that we are passing \n",
    "    # into this exercise below:\n",
    "    # https://s3.amazonaws.com/content.udacity-data.com/courses/ud359/aadhaar_data.csv\n",
    "        \n",
    "    q = \"\"\"\n",
    "    SELECT gender,district, sum(aadhaar_generated)\n",
    "    FROM aadhaar_data\n",
    "    WHERE age>50\n",
    "    GROUP BY gender,district;\n",
    "    \"\"\"# your code here\n",
    "\n",
    "    # Execute your SQL command against the pandas frame\n",
    "    aadhaar_solution = pandasql.sqldf(q.lower(), locals())\n",
    "    return aadhaar_solution    "
   ]
  },
  {
   "cell_type": "code",
   "execution_count": 10,
   "metadata": {
    "collapsed": false
   },
   "outputs": [],
   "source": [
    "#How to Access a API Efficiently\n",
    "#json.loader.py\n",
    "import json\n",
    "import requests\n",
    "if __name__==\"__main__\":\n",
    "    url='http://ws.audioscrobbler.com/2.0/?method=album.getinfo&api_key=4beab33cc6d65b05800d51f5e83bde1b&artist=Cher&album=Believe&format=json'\n",
    "    data=requests.get(url).text #assigning data =>json object\n",
    "    data=json.loads(data) #interprete a string, assume it's a json object, and convert it into a python dictionary\n",
    "    print type(data)\n",
    "    print data\n",
    "    data['artist'] #then you can do this"
   ]
  },
  {
   "cell_type": "code",
   "execution_count": 6,
   "metadata": {
    "collapsed": true
   },
   "outputs": [],
   "source": [
    "#API exercise\n",
    "import json\n",
    "import requests\n",
    "\n",
    "def api_get_request(url):\n",
    "    # In this exercise, you want to call the last.fm API to get a list of the\n",
    "    # top artists in Spain. The grader will supply the URL as an argument to\n",
    "    # the function; you do not need to construct the address or call this\n",
    "    # function in your grader submission.\n",
    "    # \n",
    "    # Once you've done this, return the name of the number 1 top artist in\n",
    "    # Spain. \n",
    "    data=requests.get(url).text\n",
    "    data=json.loads(data)\n",
    "    \n",
    "    return data['topartists']['artist'][0]['name'] # return the top artist in Spain\n"
   ]
  },
  {
   "cell_type": "code",
   "execution_count": 7,
   "metadata": {
    "collapsed": true
   },
   "outputs": [],
   "source": [
    "#Q. Imputation Exercise\n",
    "import pandas\n",
    "import numpy\n",
    "\n",
    "def imputation(filename):\n",
    "    # Pandas dataframes have a method called 'fillna(value)', such that you can\n",
    "    # pass in a single value to replace any NAs in a dataframe or series. You\n",
    "    # can call it like this: \n",
    "    #     dataframe['column'] = dataframe['column'].fillna(value)\n",
    "    #\n",
    "    # Using the numpy.mean function, which calculates the mean of a numpy\n",
    "    # array, impute any missing values in our Lahman baseball\n",
    "    # data sets 'weight' column by setting them equal to the average weight.\n",
    "    # \n",
    "    # You can access the 'weight' colum in the baseball data frame by\n",
    "    # calling baseball['weight']\n",
    "\n",
    "    baseball = pandas.read_csv(filename)\n",
    "    baseball['weight']=baseball['weight'].fillna(numpy.mean(baseball['weight']))\n",
    "    #YOUR CODE GOES HERE\n",
    "\n",
    "    return baseball\n"
   ]
  },
  {
   "cell_type": "code",
   "execution_count": 8,
   "metadata": {
    "collapsed": true
   },
   "outputs": [],
   "source": []
  },
  {
   "cell_type": "code",
   "execution_count": null,
   "metadata": {
    "collapsed": true
   },
   "outputs": [],
   "source": []
  }
 ],
 "metadata": {
  "kernelspec": {
   "display_name": "Python 2",
   "language": "python",
   "name": "python2"
  },
  "language_info": {
   "codemirror_mode": {
    "name": "ipython",
    "version": 2
   },
   "file_extension": ".py",
   "mimetype": "text/x-python",
   "name": "python",
   "nbconvert_exporter": "python",
   "pygments_lexer": "ipython2",
   "version": "2.7.10"
  }
 },
 "nbformat": 4,
 "nbformat_minor": 0
}
